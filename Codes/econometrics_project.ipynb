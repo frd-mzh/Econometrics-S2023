{
 "cells": [
  {
   "cell_type": "code",
   "execution_count": 8,
   "id": "7eeace6f-9bf8-4bad-b9be-943097f1467f",
   "metadata": {
    "tags": []
   },
   "outputs": [],
   "source": [
    "import pandas as pd\n",
    "import numpy as np\n",
    "import math\n",
    "import matplotlib.pyplot as plt\n",
    "from sklearn.preprocessing import MinMaxScaler\n",
    "from sklearn.model_selection import train_test_split\n",
    "from sklearn.linear_model import LinearRegression\n",
    "import statsmodels.api as sm\n",
    "import seaborn as sns"
   ]
  },
  {
   "cell_type": "code",
   "execution_count": null,
   "id": "6ea63635-6c98-4205-970e-bd43a1de87ad",
   "metadata": {},
   "outputs": [],
   "source": [
    "def contains_special_characters(cell):\n",
    "    if isinstance(cell, str):\n",
    "        return '?' in cell or '/' in cell\n",
    "    return False"
   ]
  },
  {
   "cell_type": "code",
   "execution_count": null,
   "id": "077ccc5a-05c0-496d-8429-3a8b5b18970e",
   "metadata": {},
   "outputs": [],
   "source": [
    "df = pd.read_csv(\"Voting_Outcomes_and_Campaign_Expenditures.csv\")\n",
    "test = df['State']\n",
    "df.drop([\"State\"],axis=1,inplace = True)\n",
    "\n",
    "f, ax = plt.subplots(figsize=(30, 25))\n",
    "mat = df.corr('spearman')\n",
    "mask = np.triu(np.ones_like(mat, dtype=bool))\n",
    "cmap = sns.diverging_palette(230, 20, as_cmap=True)\n",
    "sns.heatmap(mat, mask=mask, cmap=cmap, vmax=1, center=0,annot = True, \n",
    "linewidths=.5, cbar_kws={\"shrink\": .5})\n",
    "plt.title('Correlation Map')\n",
    "plt.show()"
   ]
  },
  {
   "cell_type": "code",
   "execution_count": null,
   "id": "84ff2e52-3b41-4689-ba79-da25a1682e92",
   "metadata": {},
   "outputs": [],
   "source": [
    "df_original = pd.read_csv(\"Voting_Outcomes_and_Campaign_Expenditures.csv\")\n",
    "df = df_original.copy()\n",
    "\n",
    "df.drop([\"State\"], axis=1, inplace=True)\n",
    "Q1 = df.quantile(0.25)\n",
    "Q3 = df.quantile(0.75)\n",
    "IQR = Q3 - Q1\n",
    "\n",
    "df = df[~((df < (Q1 - 1.5 * IQR)) | (df > (Q3 + 1.5 * IQR))).any(axis=1)]\n",
    "df[\"State\"] = df_original.loc[df.index, \"State\"]\n",
    "\n",
    "#print(df)"
   ]
  },
  {
   "cell_type": "code",
   "execution_count": null,
   "id": "b02d811a-bea3-4ce5-8932-43e7fe2ca85a",
   "metadata": {},
   "outputs": [],
   "source": [
    "df_encoded = pd.get_dummies(df, columns=['State'])\n",
    "df_encoded = df_encoded.astype(float)\n",
    "#print(df_encoded)"
   ]
  },
  {
   "cell_type": "code",
   "execution_count": null,
   "id": "e7e96b94-f562-44c2-a058-9e53986bb1f3",
   "metadata": {},
   "outputs": [],
   "source": [
    "print(df_encoded.describe())"
   ]
  },
  {
   "cell_type": "code",
   "execution_count": null,
   "id": "db28d056-977b-4416-bfb2-b439dbf95a1a",
   "metadata": {},
   "outputs": [],
   "source": [
    "df_encoded = df_encoded.drop_duplicates()\n",
    "#print(df_encoded)"
   ]
  },
  {
   "cell_type": "code",
   "execution_count": null,
   "id": "aa01470b-e253-42cd-8517-21870610f622",
   "metadata": {},
   "outputs": [],
   "source": [
    "contains_characters = df_encoded.applymap(contains_special_characters)\n",
    "any_special_characters = contains_characters.any().any()\n",
    "\n",
    "if any_special_characters:\n",
    "    print(\"there is some data missing\")\n",
    "else:\n",
    "    print(\"all the dataset is complete\")"
   ]
  },
  {
   "cell_type": "code",
   "execution_count": null,
   "id": "3febc546-b1e1-44cf-9336-18dda321eec4",
   "metadata": {},
   "outputs": [],
   "source": [
    "df.hist(figsize = (35,30), bins = 50 )\n",
    "plt.show()"
   ]
  },
  {
   "cell_type": "code",
   "execution_count": null,
   "id": "c53f0913-b08d-40dc-a711-69d1a3c32369",
   "metadata": {},
   "outputs": [],
   "source": [
    "plt.scatter(df_encoded['expandA'], df_encoded['voteA'])\n",
    "plt.show()\n",
    "\n",
    "plt.scatter(df_encoded['expandB'], df_encoded['voteA'])\n",
    "plt.show()\n",
    "\n",
    "plt.scatter(df_encoded['shareA'], df_encoded['voteA'])\n",
    "plt.show()"
   ]
  },
  {
   "cell_type": "code",
   "execution_count": null,
   "id": "539fada1-a2ae-4cb1-8ef6-def86497a4f7",
   "metadata": {},
   "outputs": [],
   "source": [
    "y = df_encoded['voteA']\n",
    "x = df_encoded.drop(columns=['voteA'])\n",
    "\n",
    "model = sm.OLS(y,x)\n",
    "results = model.fit()\n",
    "print(results.summary())"
   ]
  },
  {
   "cell_type": "code",
   "execution_count": null,
   "id": "e7a4af5f-79ef-46e0-86db-2c881cb423e2",
   "metadata": {},
   "outputs": [],
   "source": [
    "y = df_encoded['voteA']\n",
    "x = df_encoded[['lexpendA','prtystrA','democA']]\n",
    "\n",
    "model = sm.OLS(y,x)\n",
    "results = model.fit()\n",
    "print(results.summary())"
   ]
  },
  {
   "cell_type": "code",
   "execution_count": null,
   "id": "3c0fea43-6ae9-44a1-9c56-bdfe984ac7dd",
   "metadata": {},
   "outputs": [],
   "source": [
    "y = df_encoded['voteA']\n",
    "x = df_encoded[['lexpendA','expandA']]\n",
    "\n",
    "model = sm.OLS(y,x)\n",
    "results = model.fit()\n",
    "print(results.summary())"
   ]
  }
 ],
 "metadata": {
  "kernelspec": {
   "display_name": "Python 3 (ipykernel)",
   "language": "python",
   "name": "python3"
  },
  "language_info": {
   "codemirror_mode": {
    "name": "ipython",
    "version": 3
   },
   "file_extension": ".py",
   "mimetype": "text/x-python",
   "name": "python",
   "nbconvert_exporter": "python",
   "pygments_lexer": "ipython3",
   "version": "3.11.5"
  }
 },
 "nbformat": 4,
 "nbformat_minor": 5
}
